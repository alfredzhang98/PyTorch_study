{
 "cells": [
  {
   "cell_type": "code",
   "execution_count": 3,
   "id": "4b7618f2",
   "metadata": {},
   "outputs": [
    {
     "name": "stdout",
     "output_type": "stream",
     "text": [
      "\n",
      "===== PyTorch & CUDA Info =====\n",
      "PyTorch version: 2.10.0.dev20251015+cu130\n",
      "CUDA available: True\n",
      "CUDA version: 13.0\n",
      "cuDNN version: 91200\n",
      "GPU: NVIDIA GeForce RTX 5070 Ti Laptop GPU\n",
      "\n",
      "CPU time: 0.0035 s\n",
      "GPU time: 0.0010 s\n"
     ]
    }
   ],
   "source": [
    "import torch, time\n",
    "\n",
    "# ---- 版本信息 ----\n",
    "print(\"\\n===== PyTorch & CUDA Info =====\")\n",
    "print(\"PyTorch version:\", torch.__version__)\n",
    "print(\"CUDA available:\", torch.cuda.is_available())\n",
    "print(\"CUDA version:\", torch.version.cuda)\n",
    "print(\"cuDNN version:\", torch.backends.cudnn.version())\n",
    "if torch.cuda.is_available():\n",
    "    print(\"GPU:\", torch.cuda.get_device_name(0))\n",
    "\n",
    "# ---- 构造测试数据 ----\n",
    "size = 1000\n",
    "a = torch.randn(size, size)\n",
    "b = torch.randn(size, size)\n",
    "\n",
    "# ---- CPU 测试 ----\n",
    "start = time.time()\n",
    "c_cpu = torch.mm(a, b)\n",
    "print(\"\\nCPU time: %.4f s\" % (time.time() - start))\n",
    "\n",
    "# ---- GPU 测试 ----\n",
    "if torch.cuda.is_available():\n",
    "    a_gpu = a.cuda()\n",
    "    b_gpu = b.cuda()\n",
    "    torch.cuda.synchronize()\n",
    "\n",
    "    start = time.time()\n",
    "    c_gpu = torch.mm(a_gpu, b_gpu)\n",
    "    torch.cuda.synchronize()  # 等 GPU 完成\n",
    "    print(\"GPU time: %.4f s\" % (time.time() - start))\n",
    "else:\n",
    "    print(\"\\nNo GPU found, skip GPU test.\")\n"
   ]
  }
 ],
 "metadata": {
  "kernelspec": {
   "display_name": "rad-dino",
   "language": "python",
   "name": "python3"
  },
  "language_info": {
   "codemirror_mode": {
    "name": "ipython",
    "version": 3
   },
   "file_extension": ".py",
   "mimetype": "text/x-python",
   "name": "python",
   "nbconvert_exporter": "python",
   "pygments_lexer": "ipython3",
   "version": "3.11.13"
  }
 },
 "nbformat": 4,
 "nbformat_minor": 5
}
