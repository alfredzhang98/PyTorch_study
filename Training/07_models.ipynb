{
 "cells": [
  {
   "cell_type": "markdown",
   "id": "3648dec5",
   "metadata": {},
   "source": [
    "Torchvision 中的各种经典网络结构以及训练好的模型，都放在了torchvision.models模块中\n",
    "\n",
    "例如GoogLeNet\n",
    "\n",
    "torchvision.models模块的使用，包括如何实例化一个网络与如何进行模型的微调。\n",
    "\n",
    "Torchvision 中有趣的函数，make_grid 和 save_img\n"
   ]
  },
  {
   "cell_type": "code",
   "execution_count": 3,
   "id": "8ab3ba59",
   "metadata": {},
   "outputs": [
    {
     "name": "stderr",
     "output_type": "stream",
     "text": [
      "5.5%"
     ]
    },
    {
     "name": "stdout",
     "output_type": "stream",
     "text": [
      "Downloading: \"https://download.pytorch.org/models/googlenet-1378be20.pth\" to ./data/checkpoints/googlenet-1378be20.pth\n"
     ]
    },
    {
     "name": "stderr",
     "output_type": "stream",
     "text": [
      "100.0%\n"
     ]
    }
   ],
   "source": [
    "import torch\n",
    "from torchvision import models\n",
    "from torchvision.models import GoogLeNet_Weights\n",
    "\n",
    "# 设置权重下载路径（相当于 download_root）\n",
    "torch.hub.set_dir(\"./data/\")\n",
    "\n",
    "googlenet = models.googlenet(weights=GoogLeNet_Weights.IMAGENET1K_V1)"
   ]
  },
  {
   "cell_type": "code",
   "execution_count": 7,
   "id": "41f35cac",
   "metadata": {},
   "outputs": [
    {
     "name": "stdout",
     "output_type": "stream",
     "text": [
      "1024\n",
      "10\n",
      "Linear(in_features=1024, out_features=10, bias=True)\n"
     ]
    }
   ],
   "source": [
    "# 模型微调\n",
    "# 从0开始训练一个深度神经网络是非常耗时的，并且需要大量的数据，而且也容易过拟合。\n",
    "# 迁移学习，可以用已经在 ImageNet 数据集上训练好的模型来达成你的目的。\n",
    "\n",
    "# 提取分类层的输入参数\n",
    "# fc 是 GoogLeNet 模型的最后一层全连接层\n",
    "num_in_ftrs = googlenet.fc.in_features\n",
    "print(num_in_ftrs)\n",
    "\n",
    "# 提取输出类别数\n",
    "num_out_ftrs = googlenet.fc.out_features\n",
    "print(num_out_ftrs)\n",
    "\n",
    "# 我们可以替换模型的最后一层全连接层\n",
    "# 假设我们有 10 个类别\n",
    "num_classes = 10\n",
    "googlenet.fc = torch.nn.Linear(num_in_ftrs, num_classes)\n",
    "print(googlenet.fc)"
   ]
  },
  {
   "cell_type": "code",
   "execution_count": 12,
   "id": "f0ca19d5",
   "metadata": {},
   "outputs": [
    {
     "name": "stdout",
     "output_type": "stream",
     "text": [
      "tensor([[[[0., 0., 0.,  ..., 0., 0., 0.],\n",
      "          [0., 0., 0.,  ..., 0., 0., 0.],\n",
      "          [0., 0., 0.,  ..., 0., 0., 0.],\n",
      "          ...,\n",
      "          [0., 0., 0.,  ..., 0., 0., 0.],\n",
      "          [0., 0., 0.,  ..., 0., 0., 0.],\n",
      "          [0., 0., 0.,  ..., 0., 0., 0.]]],\n",
      "\n",
      "\n",
      "        [[[0., 0., 0.,  ..., 0., 0., 0.],\n",
      "          [0., 0., 0.,  ..., 0., 0., 0.],\n",
      "          [0., 0., 0.,  ..., 0., 0., 0.],\n",
      "          ...,\n",
      "          [0., 0., 0.,  ..., 0., 0., 0.],\n",
      "          [0., 0., 0.,  ..., 0., 0., 0.],\n",
      "          [0., 0., 0.,  ..., 0., 0., 0.]]],\n",
      "\n",
      "\n",
      "        [[[0., 0., 0.,  ..., 0., 0., 0.],\n",
      "          [0., 0., 0.,  ..., 0., 0., 0.],\n",
      "          [0., 0., 0.,  ..., 0., 0., 0.],\n",
      "          ...,\n",
      "          [0., 0., 0.,  ..., 0., 0., 0.],\n",
      "          [0., 0., 0.,  ..., 0., 0., 0.],\n",
      "          [0., 0., 0.,  ..., 0., 0., 0.]]],\n",
      "\n",
      "\n",
      "        ...,\n",
      "\n",
      "\n",
      "        [[[0., 0., 0.,  ..., 0., 0., 0.],\n",
      "          [0., 0., 0.,  ..., 0., 0., 0.],\n",
      "          [0., 0., 0.,  ..., 0., 0., 0.],\n",
      "          ...,\n",
      "          [0., 0., 0.,  ..., 0., 0., 0.],\n",
      "          [0., 0., 0.,  ..., 0., 0., 0.],\n",
      "          [0., 0., 0.,  ..., 0., 0., 0.]]],\n",
      "\n",
      "\n",
      "        [[[0., 0., 0.,  ..., 0., 0., 0.],\n",
      "          [0., 0., 0.,  ..., 0., 0., 0.],\n",
      "          [0., 0., 0.,  ..., 0., 0., 0.],\n",
      "          ...,\n",
      "          [0., 0., 0.,  ..., 0., 0., 0.],\n",
      "          [0., 0., 0.,  ..., 0., 0., 0.],\n",
      "          [0., 0., 0.,  ..., 0., 0., 0.]]],\n",
      "\n",
      "\n",
      "        [[[0., 0., 0.,  ..., 0., 0., 0.],\n",
      "          [0., 0., 0.,  ..., 0., 0., 0.],\n",
      "          [0., 0., 0.,  ..., 0., 0., 0.],\n",
      "          ...,\n",
      "          [0., 0., 0.,  ..., 0., 0., 0.],\n",
      "          [0., 0., 0.,  ..., 0., 0., 0.],\n",
      "          [0., 0., 0.,  ..., 0., 0., 0.]]]])\n",
      "tensor([7, 2, 1, 0, 4, 1, 4, 9, 5, 9, 0, 6, 9, 0, 1, 5, 9, 7, 3, 4, 9, 6, 6, 5,\n",
      "        4, 0, 7, 4, 0, 1, 3, 1])\n",
      "torch.Size([32, 1, 28, 28])\n"
     ]
    },
    {
     "data": {
      "image/jpeg": "[encoded data removed]",
      "image/png": "[encoded data removed]",
      "text/plain": [
       "<PIL.Image.Image image mode=RGB size=269x137>"
      ]
     },
     "metadata": {},
     "output_type": "display_data"
    }
   ],
   "source": [
    "# 复习一下 torchvision.transforms 我们之前学过的图像预处理方法\n",
    "# 我们可以拼接多个图像预处理方法， nrow 代表每行显示的图片数量， padding 代表图片之间的间距\n",
    "# torchvision.utils.make_grid(tensor, nrow=8, padding=2)\n",
    "\n",
    "import torchvision\n",
    "from torchvision import datasets\n",
    "from torchvision import transforms\n",
    "from torch.utils.data import DataLoader\n",
    "\n",
    "# 加载MNIST数据集\n",
    "mnist_dataset = datasets.MNIST(root='./data',\n",
    "                               train=False,\n",
    "                               transform=transforms.ToTensor(),\n",
    "                               target_transform=None,\n",
    "                               download=True)\n",
    "# 取32张图片的tensor\n",
    "tensor_dataloader = DataLoader(dataset=mnist_dataset,\n",
    "                               batch_size=32)\n",
    "data_iter = iter(tensor_dataloader)\n",
    "img_tensor, label_tensor = next(data_iter)\n",
    "print(img_tensor)\n",
    "print(label_tensor)\n",
    "print(img_tensor.shape)\n",
    "'''\n",
    "输出：torch.Size([32, 1, 28, 28])\n",
    "'''\n",
    "# 将32张图片拼接在一个网格中\n",
    "# batch size is 32, and nrow is 8, so there will be 4 rows\n",
    "grid_tensor = torchvision.utils.make_grid(img_tensor, nrow=8, padding=5)\n",
    "grid_img = transforms.ToPILImage()(grid_tensor)\n",
    "display(grid_img)"
   ]
  },
  {
   "cell_type": "code",
   "execution_count": 15,
   "id": "853ac013",
   "metadata": {},
   "outputs": [],
   "source": [
    "# 一般来说，在保存模型输出的图片时，需要将 Tensor 类型的数据转化为图片类型才能进行保存，过程比较繁琐。\n",
    "# Torchvision 提供了 save_image 函数，能够直接将 Tensor 保存为图片，即使 Tensor 数据在 CUDA 上，也会自动移到 CPU 中进行保存。\n",
    "\n",
    "from torchvision.utils import save_image\n",
    "# 保存拼接好的图片\n",
    "save_image(grid_tensor, './data/mnist_grid.png')\n",
    "\n",
    "# save by tensor and  nrow and padding directly\n",
    "save_image(img_tensor, './data/mnist_grid2.png', nrow=4, padding=5)"
   ]
  }
 ],
 "metadata": {
  "kernelspec": {
   "display_name": "rad-dino",
   "language": "python",
   "name": "python3"
  },
  "language_info": {
   "codemirror_mode": {
    "name": "ipython",
    "version": 3
   },
   "file_extension": ".py",
   "mimetype": "text/x-python",
   "name": "python",
   "nbconvert_exporter": "python",
   "pygments_lexer": "ipython3",
   "version": "3.11.13"
  }
 },
 "nbformat": 4,
 "nbformat_minor": 5
}
