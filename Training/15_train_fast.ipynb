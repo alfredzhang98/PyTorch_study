{
 "cells": [
  {
   "cell_type": "markdown",
   "id": "2ecacb8d",
   "metadata": {},
   "source": [
    "## 分布式训练原理\n",
    "\n",
    "而在深度学习中，模型的训练与计算过程则没有太多的分支，基本上都是矩阵或者向量的计算，而这种暴力又单纯的计算形式非常适合用 GPU 处理，GPU 的整个处理过程就是一个流式处理的过程。\n",
    "\n",
    "于是就有了多个 GPU 协同工作的办法\n",
    "\n",
    "谁分布了？答案有两个：数据与模型。\n",
    "\n",
    "怎么分布？答案也有两个：单机多卡与多机多卡。"
   ]
  },
  {
   "cell_type": "markdown",
   "id": "f849e76f",
   "metadata": {},
   "source": [
    "### 单机单卡\n",
    "\n"
   ]
  },
  {
   "cell_type": "code",
   "execution_count": null,
   "id": "172ab313",
   "metadata": {},
   "outputs": [
    {
     "data": {
      "text/plain": [
       "<All keys matched successfully>"
      ]
     },
     "metadata": {},
     "output_type": "display_data"
    }
   ],
   "source": [
    "device = torch.device(\"cuda:0\" if torch.cuda.is_available() else \"cpu\")\n",
    "print(device)"
   ]
  }
 ],
 "metadata": {
  "kernelspec": {
   "display_name": "rad-dino",
   "language": "python",
   "name": "python3"
  },
  "language_info": {
   "name": "python",
   "version": "3.11.13"
  }
 },
 "nbformat": 4,
 "nbformat_minor": 5
}
